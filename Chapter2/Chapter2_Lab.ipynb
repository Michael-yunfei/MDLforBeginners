{
 "cells": [
  {
   "cell_type": "markdown",
   "metadata": {},
   "source": [
    "# 人工智能基础第二章-线性和非线性分类"
   ]
  },
  {
   "cell_type": "markdown",
   "metadata": {},
   "source": [
    "这一章是人工智能基础的入门章节，即通过鸢尾花案例来介绍简单的感知器(perceptron)线性二元分类，并且引入支持向量机(support vector machine)模型的学习。在本章节的实验中，我们会通过不同的案例来，来学习和训练以下相关知识点:\n",
    " - 向量运算和其几何性质\n",
    " - 线性分类\n",
    " - 感知器线性二元线性分类\n",
    " - 支持向量机(support vector machine)二元线性线性\n",
    " - 支持向量机(support vector machine)二元非线性线性(选修)"
   ]
  },
  {
   "cell_type": "markdown",
   "metadata": {},
   "source": [
    "### 实验重点"
   ]
  },
  {
   "cell_type": "markdown",
   "metadata": {},
   "source": [
    "同学们在进行本章的实验练习时，要留意下面几个要点:\n",
    "\n",
    "1. 摆脱计算思维，所有计算能扔给计算机的就扔给计算机\n",
    "2. 理解数学概念后，善于用计算机来直观得呈现相关概念\n",
    "3. 培养对数据阵的直观感受\n",
    "4. 训练自己对机器学习模型的流程化理解，即\n",
    "    - 数据准备和可视化\n",
    "    - 模型搭建和调用\n",
    "    - 模型运行寻找规律参数\n",
    "    - 模型预测和评估\n",
    "    \n",
    "#### 提示: 只要你会解一元二次方程组，那么你就可以顺利完成该实验，所以请耐心做完(可以分三次，每次30分钟完成全部实验)"
   ]
  },
  {
   "cell_type": "markdown",
   "metadata": {},
   "source": [
    "## 2.0 实验前准备\n",
    "\n",
    "开始实验前，我们会导入必要的Python工具，有些Python工具是老师为了设计该实验所调用，所以同学们不需要去过度留意。重点的Python工具我会特别注明，提醒同学们多加留意。"
   ]
  },
  {
   "cell_type": "code",
   "execution_count": null,
   "metadata": {},
   "outputs": [],
   "source": [
    "import numpy as np  # 重点内容\n",
    "import pandas as pd # 重点内容\n",
    "\n"
   ]
  },
  {
   "cell_type": "code",
   "execution_count": null,
   "metadata": {},
   "outputs": [],
   "source": []
  }
 ],
 "metadata": {
  "kernelspec": {
   "display_name": "Python 3",
   "language": "python",
   "name": "python3"
  },
  "language_info": {
   "codemirror_mode": {
    "name": "ipython",
    "version": 3
   },
   "file_extension": ".py",
   "mimetype": "text/x-python",
   "name": "python",
   "nbconvert_exporter": "python",
   "pygments_lexer": "ipython3",
   "version": "3.7.2"
  }
 },
 "nbformat": 4,
 "nbformat_minor": 2
}
